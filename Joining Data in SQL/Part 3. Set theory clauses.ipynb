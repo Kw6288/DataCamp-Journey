{
 "cells": [
  {
   "cell_type": "markdown",
   "metadata": {},
   "source": [
    "# Union"
   ]
  },
  {
   "cell_type": "markdown",
   "metadata": {},
   "source": [
    "```sql\n",
    "-- Select fields from 2010 table\n",
    "select *\n",
    "  -- From 2010 table\n",
    "  from economies2010\n",
    "\t-- Set theory clause\n",
    "\tunion\n",
    "-- Select fields from 2015 table\n",
    "Select *\n",
    "  -- From 2015 table\n",
    "  from economies2015\n",
    "-- Order by code and year\n",
    "order by code, year;\n",
    "```"
   ]
  },
  {
   "cell_type": "markdown",
   "metadata": {},
   "source": [
    "# Union 2"
   ]
  },
  {
   "cell_type": "markdown",
   "metadata": {},
   "source": [
    "```sql\n",
    "\n",
    "-- Select field\n",
    "select country_code\n",
    "  -- From cities\n",
    "  from cities\n",
    "\t-- Set theory clause\n",
    "\tunion \n",
    "-- Select field\n",
    "select code\n",
    "  -- From currencies\n",
    "  from currencies\n",
    "-- Order by country_code\n",
    "order by country_code;\n",
    "```"
   ]
  },
  {
   "cell_type": "markdown",
   "metadata": {},
   "source": [
    "# Union all"
   ]
  },
  {
   "cell_type": "markdown",
   "metadata": {},
   "source": [
    "```sql\n",
    "-- Select fields\n",
    "SELECT code, economies.year\n",
    "  -- From economies\n",
    "  FROM economies\n",
    "\t-- Set theory clause\n",
    "\tunion all\n",
    "-- Select fields\n",
    "SELECT country_code, populations.year\n",
    "  -- From populations\n",
    "  FROM populations\n",
    "-- Order by code, year\n",
    "ORDER BY code, year;\n",
    "```"
   ]
  },
  {
   "cell_type": "markdown",
   "metadata": {},
   "source": [
    "# Intersect\n",
    "\n",
    "```sql \n",
    "-- Select fields\n",
    "select code, economies.year\n",
    "  -- From economies\n",
    "  from economies\n",
    "\t-- Set theory clause\n",
    "\tintersect \n",
    "-- Select fields\n",
    "select country_code, populations.year\n",
    "  -- From populations\n",
    "  from populations\n",
    "-- Order by code and year\n",
    "order by code,year;\n",
    "```"
   ]
  },
  {
   "cell_type": "markdown",
   "metadata": {},
   "source": [
    "# Intersect 2\n",
    "\n",
    "```sql\n",
    "-- Select fields\n",
    "select countries.name\n",
    "  -- From countries\n",
    "  from countries\n",
    "\t-- Set theory clause\n",
    "\tintersect\n",
    "-- Select fields\n",
    "select cities.name\n",
    "  -- From cities\n",
    "  from cities;\n",
    "```"
   ]
  },
  {
   "cell_type": "markdown",
   "metadata": {},
   "source": [
    "# Except\n",
    "\n",
    "```sql\n",
    "-- Select field\n",
    "SELECT name\n",
    "  -- From cities\n",
    "  FROM cities\n",
    "\t-- Set theory clause\n",
    "\texcept\n",
    "-- Select field\n",
    "SELECT capital\n",
    "  -- From countries\n",
    "  FROM countries\n",
    "-- Order by result\n",
    "ORDER BY name;\n",
    "```"
   ]
  },
  {
   "cell_type": "markdown",
   "metadata": {},
   "source": [
    "# Except 2\n",
    "\n",
    "```sql\n",
    "-- Select field\n",
    "select capital\n",
    "  -- From countries\n",
    "from countries\n",
    "\t-- Set theory clause\n",
    "\texcept\n",
    "-- Select field\n",
    "select name\n",
    "  -- From cities\n",
    "  from cities\n",
    "-- Order by ascending capital\n",
    "order by capital\n",
    "```"
   ]
  },
  {
   "cell_type": "markdown",
   "metadata": {},
   "source": [
    "# Semi Join\n",
    "\n",
    "```sql\n",
    "-- Select code\n",
    "select code\n",
    "  -- From countries\n",
    "  from countries\n",
    "-- Where region is Middle East\n",
    "where region = 'Middle East';\n",
    "```"
   ]
  },
  {
   "cell_type": "markdown",
   "metadata": {},
   "source": [
    "# Diagnosing problems using anti-join\n",
    "\n",
    "```sql\n",
    "\n",
    "-- Select code\n",
    "select code\n",
    "  -- From countries\n",
    "  from countries\n",
    "-- Where region is Middle East\n",
    "where region = 'Middle East';\n",
    "\n",
    "```"
   ]
  },
  {
   "cell_type": "markdown",
   "metadata": {},
   "source": [
    "# Set theory challenge\n",
    "\n",
    "```sql\n",
    "-- Select the city name\n",
    "select name\n",
    "  -- Alias the table where city name resides\n",
    "  from cities AS c1\n",
    "  -- Choose only records matching the result of multiple set theory clauses\n",
    "  WHERE country_code IN\n",
    "(\n",
    "    -- Select appropriate field from economies AS e\n",
    "    SELECT e.code\n",
    "    FROM economies AS e\n",
    "    -- Get all additional (unique) values of the field from currencies AS c2  \n",
    "    union\n",
    "    SELECT c2.code\n",
    "    FROM currencies AS c2\n",
    "    -- Exclude those appearing in populations AS p\n",
    "    except\n",
    "    SELECT p.country_code\n",
    "    FROM populations AS p\n",
    ");\n",
    "```"
   ]
  }
 ],
 "metadata": {
  "kernelspec": {
   "display_name": "Python 3",
   "language": "python",
   "name": "python3"
  },
  "language_info": {
   "codemirror_mode": {
    "name": "ipython",
    "version": 3
   },
   "file_extension": ".py",
   "mimetype": "text/x-python",
   "name": "python",
   "nbconvert_exporter": "python",
   "pygments_lexer": "ipython3",
   "version": "3.7.1"
  }
 },
 "nbformat": 4,
 "nbformat_minor": 2
}
